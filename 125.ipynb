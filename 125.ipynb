{
  "cells": [
    {
      "cell_type": "markdown",
      "id": "d73ddbe3-38e4-4fff-8338-ed40d5f04139",
      "metadata": {
        "id": "d73ddbe3-38e4-4fff-8338-ed40d5f04139"
      },
      "source": [
        "# Module 1: Data Wrangling with Python"
      ]
    },
    {
      "cell_type": "markdown",
      "id": "88d754ae-56a9-4cba-b08d-4d31ec492b8d",
      "metadata": {
        "id": "88d754ae-56a9-4cba-b08d-4d31ec492b8d"
      },
      "source": [
        "## Sprint 2: Data Processing with NumPy and Pandas"
      ]
    },
    {
      "cell_type": "markdown",
      "id": "bea0af46-b6f7-4e44-b92e-97b99ae829ae",
      "metadata": {
        "id": "bea0af46-b6f7-4e44-b92e-97b99ae829ae"
      },
      "source": [
        "## Part 5: Top 50 Spotify Tracks of 2020"
      ]
    },
    {
      "cell_type": "markdown",
      "id": "6daa25cd-f143-4d19-abae-27fbad5e0450",
      "metadata": {
        "id": "6daa25cd-f143-4d19-abae-27fbad5e0450"
      },
      "source": [
        "## About this Part\n",
        "\n",
        "Congrats!\n",
        "You completed almost all assignments and tasks of this Sprint.\n",
        "You did a great job.\n",
        "In this Part, you will need to prove all the skills that you learned.\n",
        "As the final assignment of this Sprint, you will analyze the Top 50 Spotify Tracks 2020 dataset.\n",
        "To complete this task, you will have to apply all that you have learned about Data Analysis, Linear Algebra, NumPy, and Pandas.\n",
        "\n",
        "P.S. we don't expect this project to be perfect - you will continue to improve your skills and there will be many projects for you to apply your newly gained skills in the future.\n",
        "For now just use what you have learned and try your best!\n",
        "\n",
        "## Context\n",
        "\n",
        "Imagine that you are a data analyst working for Spotify.\n",
        "Your team is responsible for content analysis, and in this quarter, you have decided to analyze Spotify's top hits and quantify what makes a hit song.\n",
        "Your team's product manager has many ideas and prepared a list of questions (requirements) that she wants you to get answers to.\n",
        "After reviewing the list of over 20 questions, you are not in a good mood - you'll have to work a couple of days to get all the answers.\n",
        "Luckily, a few days ago, an experienced data scientist working in your team queried the top 50 tracks for her machine learning project and agreed to share the data with you.\n",
        "This is a significant help - your SQL skills are not too sharp yet, and you don't yet know where to find all the relevant tables in your data warehouse.\n",
        "With this dataset, you are confident that you'll be able to answer all your PM's questions and maybe even look into some things that she didn't ask for.\n",
        "\n",
        "## Objectives for this Part\n",
        "\n",
        "- Practice working with data from Kaggle.\n",
        "- Practice performing basic EDA.\n",
        "- Practice reading data, performing queries and filtering data using Pandas.\n",
        "\n",
        "## Requirements\n",
        "\n",
        "- Download the data from [Spotify Top 50 Tracks of 2020 dataset](https://www.kaggle.com/atillacolak/top-50-spotify-tracks-2020).\n",
        "- Load the data using Pandas.\n",
        "- Perform data cleaning by:\n",
        "  - Handling missing values.\n",
        "  - Removing duplicate samples and features.\n",
        "  - Treating the outliers.\n",
        "- Perform exploratory data analysis. Your analysis should provide answers to these questions:\n",
        "  - How many observations are there in this dataset?\n",
        "  - How many features this dataset has?\n",
        "  - Which of the features are categorical?\n",
        "  - Which of the features are numeric?\n",
        "  - Are there any artists that have more than 1 popular track? If yes, which and how many?\n",
        "  - Who was the most popular artist?\n",
        "  - How many artists in total have their songs in the top 50?\n",
        "  - Are there any albums that have more than 1 popular track? If yes, which and how many?\n",
        "  - How many albums in total have their songs in the top 50?\n",
        "  - Which tracks have a danceability score above 0.7?\n",
        "  - Which tracks have a danceability score below 0.4?\n",
        "  - Which tracks have their loudness above -5?\n",
        "  - Which tracks have their loudness below -8?\n",
        "  - Which track is the longest?\n",
        "  - Which track is the shortest?\n",
        "  - Which genre is the most popular?\n",
        "  - Which genres have just one song on the top 50?\n",
        "  - How many genres in total are represented in the top 50?\n",
        "  - Which features are strongly positively correlated?\n",
        "  - Which features are strongly negatively correlated?\n",
        "  - Which features are not correlated?\n",
        "- How does the danceability score compare between Pop, Hip-Hop/Rap, Dance/Electronic, and Alternative/Indie genres?\n",
        "- How does the loudness score compare between Pop, Hip-Hop/Rap, Dance/Electronic, and Alternative/Indie genres?\n",
        "- How does the acousticness score compare between Pop, Hip-Hop/Rap, Dance/Electronic, and Alternative/Indie genres?\n",
        "- Provide clear explanations in your notebook. Your explanations should inform the reader what you are trying to achieve, what results you got, and what these results mean.\n",
        "- Provide suggestions about how your analysis can be improved.\n",
        "\n",
        "## Evaluation Criteria\n",
        "\n",
        "- Adherence to the requirements. How well did you meet the requirements?\n",
        "- Code quality. Was your code well-structured? Did you use the correct levels of abstraction? Did you remove commented-out and unused code? Did you adhere to the PEP8?\n",
        "- Code performance. Did you use suitable algorithms and data structures to solve the problems?\n",
        "\n",
        "## Correction\n",
        "\n",
        "During your project correction, you should present your project as if talking to a product manager and senior data analyst working in your team.\n",
        "You will have to find the right balance between explaining the business side and the technical aspects of your work.\n",
        "You can assume that both of your colleagues have a strong understanding of and are very interested in the business aspect of your project, so be sure to clearly explain what new insights you've found while analyzing the dataset and which directions look the most promising for further research.\n",
        "However, you should also spend time explaining the technical aspects of your work, especially the more complex or unconventional choices.\n",
        "\n",
        "During a correction, you may get asked questions that test your understanding of covered topics.\n",
        "\n",
        "- What advantages do NumPy arrays have over Python lists?\n",
        "- What makes computation on NumPy arrays so fast?\n",
        "- What are the rules of broadcasting?\n",
        "- What advantages do Pandas have over NumPy?\n",
        "- What is a DataFrame in Pandas?\n"
      ]
    },
    {
      "cell_type": "markdown",
      "id": "68a70e6a-6532-474b-be64-5f5eb6f57673",
      "metadata": {
        "id": "68a70e6a-6532-474b-be64-5f5eb6f57673"
      },
      "source": [
        "## General Correction Guidelines\n",
        "\n",
        "For an in-depth explanation about how corrections work at Turing College, please read [this doc](https://turingcollege.atlassian.net/wiki/spaces/DLG/pages/537395951/Peer+expert+reviews+corrections).\n"
      ]
    },
    {
      "cell_type": "markdown",
      "source": [
        "# Spotify project by Lukas Kazancevas #"
      ],
      "metadata": {
        "id": "jmYDxMI9j4CR"
      },
      "id": "jmYDxMI9j4CR"
    },
    {
      "cell_type": "code",
      "source": [
        "from google.colab import files\n",
        "\n",
        "uploaded = files.upload()"
      ],
      "metadata": {
        "colab": {
          "base_uri": "https://localhost:8080/",
          "height": 73
        },
        "id": "eZDwU7PFlsiO",
        "outputId": "36d2a8db-ee8d-4491-8720-fbb5d4467a41"
      },
      "id": "eZDwU7PFlsiO",
      "execution_count": 25,
      "outputs": [
        {
          "output_type": "display_data",
          "data": {
            "text/plain": [
              "<IPython.core.display.HTML object>"
            ],
            "text/html": [
              "\n",
              "     <input type=\"file\" id=\"files-7235aa4a-4f8f-4e54-b9ac-f4f5fc90eef1\" name=\"files[]\" multiple disabled\n",
              "        style=\"border:none\" />\n",
              "     <output id=\"result-7235aa4a-4f8f-4e54-b9ac-f4f5fc90eef1\">\n",
              "      Upload widget is only available when the cell has been executed in the\n",
              "      current browser session. Please rerun this cell to enable.\n",
              "      </output>\n",
              "      <script>// Copyright 2017 Google LLC\n",
              "//\n",
              "// Licensed under the Apache License, Version 2.0 (the \"License\");\n",
              "// you may not use this file except in compliance with the License.\n",
              "// You may obtain a copy of the License at\n",
              "//\n",
              "//      http://www.apache.org/licenses/LICENSE-2.0\n",
              "//\n",
              "// Unless required by applicable law or agreed to in writing, software\n",
              "// distributed under the License is distributed on an \"AS IS\" BASIS,\n",
              "// WITHOUT WARRANTIES OR CONDITIONS OF ANY KIND, either express or implied.\n",
              "// See the License for the specific language governing permissions and\n",
              "// limitations under the License.\n",
              "\n",
              "/**\n",
              " * @fileoverview Helpers for google.colab Python module.\n",
              " */\n",
              "(function(scope) {\n",
              "function span(text, styleAttributes = {}) {\n",
              "  const element = document.createElement('span');\n",
              "  element.textContent = text;\n",
              "  for (const key of Object.keys(styleAttributes)) {\n",
              "    element.style[key] = styleAttributes[key];\n",
              "  }\n",
              "  return element;\n",
              "}\n",
              "\n",
              "// Max number of bytes which will be uploaded at a time.\n",
              "const MAX_PAYLOAD_SIZE = 100 * 1024;\n",
              "\n",
              "function _uploadFiles(inputId, outputId) {\n",
              "  const steps = uploadFilesStep(inputId, outputId);\n",
              "  const outputElement = document.getElementById(outputId);\n",
              "  // Cache steps on the outputElement to make it available for the next call\n",
              "  // to uploadFilesContinue from Python.\n",
              "  outputElement.steps = steps;\n",
              "\n",
              "  return _uploadFilesContinue(outputId);\n",
              "}\n",
              "\n",
              "// This is roughly an async generator (not supported in the browser yet),\n",
              "// where there are multiple asynchronous steps and the Python side is going\n",
              "// to poll for completion of each step.\n",
              "// This uses a Promise to block the python side on completion of each step,\n",
              "// then passes the result of the previous step as the input to the next step.\n",
              "function _uploadFilesContinue(outputId) {\n",
              "  const outputElement = document.getElementById(outputId);\n",
              "  const steps = outputElement.steps;\n",
              "\n",
              "  const next = steps.next(outputElement.lastPromiseValue);\n",
              "  return Promise.resolve(next.value.promise).then((value) => {\n",
              "    // Cache the last promise value to make it available to the next\n",
              "    // step of the generator.\n",
              "    outputElement.lastPromiseValue = value;\n",
              "    return next.value.response;\n",
              "  });\n",
              "}\n",
              "\n",
              "/**\n",
              " * Generator function which is called between each async step of the upload\n",
              " * process.\n",
              " * @param {string} inputId Element ID of the input file picker element.\n",
              " * @param {string} outputId Element ID of the output display.\n",
              " * @return {!Iterable<!Object>} Iterable of next steps.\n",
              " */\n",
              "function* uploadFilesStep(inputId, outputId) {\n",
              "  const inputElement = document.getElementById(inputId);\n",
              "  inputElement.disabled = false;\n",
              "\n",
              "  const outputElement = document.getElementById(outputId);\n",
              "  outputElement.innerHTML = '';\n",
              "\n",
              "  const pickedPromise = new Promise((resolve) => {\n",
              "    inputElement.addEventListener('change', (e) => {\n",
              "      resolve(e.target.files);\n",
              "    });\n",
              "  });\n",
              "\n",
              "  const cancel = document.createElement('button');\n",
              "  inputElement.parentElement.appendChild(cancel);\n",
              "  cancel.textContent = 'Cancel upload';\n",
              "  const cancelPromise = new Promise((resolve) => {\n",
              "    cancel.onclick = () => {\n",
              "      resolve(null);\n",
              "    };\n",
              "  });\n",
              "\n",
              "  // Wait for the user to pick the files.\n",
              "  const files = yield {\n",
              "    promise: Promise.race([pickedPromise, cancelPromise]),\n",
              "    response: {\n",
              "      action: 'starting',\n",
              "    }\n",
              "  };\n",
              "\n",
              "  cancel.remove();\n",
              "\n",
              "  // Disable the input element since further picks are not allowed.\n",
              "  inputElement.disabled = true;\n",
              "\n",
              "  if (!files) {\n",
              "    return {\n",
              "      response: {\n",
              "        action: 'complete',\n",
              "      }\n",
              "    };\n",
              "  }\n",
              "\n",
              "  for (const file of files) {\n",
              "    const li = document.createElement('li');\n",
              "    li.append(span(file.name, {fontWeight: 'bold'}));\n",
              "    li.append(span(\n",
              "        `(${file.type || 'n/a'}) - ${file.size} bytes, ` +\n",
              "        `last modified: ${\n",
              "            file.lastModifiedDate ? file.lastModifiedDate.toLocaleDateString() :\n",
              "                                    'n/a'} - `));\n",
              "    const percent = span('0% done');\n",
              "    li.appendChild(percent);\n",
              "\n",
              "    outputElement.appendChild(li);\n",
              "\n",
              "    const fileDataPromise = new Promise((resolve) => {\n",
              "      const reader = new FileReader();\n",
              "      reader.onload = (e) => {\n",
              "        resolve(e.target.result);\n",
              "      };\n",
              "      reader.readAsArrayBuffer(file);\n",
              "    });\n",
              "    // Wait for the data to be ready.\n",
              "    let fileData = yield {\n",
              "      promise: fileDataPromise,\n",
              "      response: {\n",
              "        action: 'continue',\n",
              "      }\n",
              "    };\n",
              "\n",
              "    // Use a chunked sending to avoid message size limits. See b/62115660.\n",
              "    let position = 0;\n",
              "    do {\n",
              "      const length = Math.min(fileData.byteLength - position, MAX_PAYLOAD_SIZE);\n",
              "      const chunk = new Uint8Array(fileData, position, length);\n",
              "      position += length;\n",
              "\n",
              "      const base64 = btoa(String.fromCharCode.apply(null, chunk));\n",
              "      yield {\n",
              "        response: {\n",
              "          action: 'append',\n",
              "          file: file.name,\n",
              "          data: base64,\n",
              "        },\n",
              "      };\n",
              "\n",
              "      let percentDone = fileData.byteLength === 0 ?\n",
              "          100 :\n",
              "          Math.round((position / fileData.byteLength) * 100);\n",
              "      percent.textContent = `${percentDone}% done`;\n",
              "\n",
              "    } while (position < fileData.byteLength);\n",
              "  }\n",
              "\n",
              "  // All done.\n",
              "  yield {\n",
              "    response: {\n",
              "      action: 'complete',\n",
              "    }\n",
              "  };\n",
              "}\n",
              "\n",
              "scope.google = scope.google || {};\n",
              "scope.google.colab = scope.google.colab || {};\n",
              "scope.google.colab._files = {\n",
              "  _uploadFiles,\n",
              "  _uploadFilesContinue,\n",
              "};\n",
              "})(self);\n",
              "</script> "
            ]
          },
          "metadata": {}
        },
        {
          "output_type": "stream",
          "name": "stdout",
          "text": [
            "Saving spotifytoptracks.csv to spotifytoptracks (1).csv\n"
          ]
        }
      ]
    },
    {
      "cell_type": "code",
      "source": [
        "import pandas as pd\n",
        "import matplotlib.pyplot as plt\n",
        "import numpy as np\n",
        "import seaborn as sns\n",
        "\n",
        "data_source = pd.read_csv('spotifytoptracks.csv')"
      ],
      "metadata": {
        "id": "QnXDnPq_lydR"
      },
      "id": "QnXDnPq_lydR",
      "execution_count": 26,
      "outputs": []
    },
    {
      "cell_type": "markdown",
      "source": [
        "# Checking if there are missing values in dataframe\n"
      ],
      "metadata": {
        "id": "eRcZ4uPTl2Vh"
      },
      "id": "eRcZ4uPTl2Vh"
    },
    {
      "cell_type": "code",
      "source": [
        "missing_values = data_source.isna()\n",
        "missing_values_sum = missing_values.sum().sum()\n",
        "print(missing_values_sum)"
      ],
      "metadata": {
        "colab": {
          "base_uri": "https://localhost:8080/"
        },
        "id": "jSLXf7uZl6Fq",
        "outputId": "7d644d4f-2750-430b-c7a0-4338725895c2"
      },
      "id": "jSLXf7uZl6Fq",
      "execution_count": 27,
      "outputs": [
        {
          "output_type": "stream",
          "name": "stdout",
          "text": [
            "0\n"
          ]
        }
      ]
    },
    {
      "cell_type": "markdown",
      "source": [
        "# Checking duplicated values in rows and columns\n"
      ],
      "metadata": {
        "id": "Ji130VeEmDD6"
      },
      "id": "Ji130VeEmDD6"
    },
    {
      "cell_type": "code",
      "source": [
        "duplicated_rows = data_source.duplicated()\n",
        "duplicated_rows_sum = duplicated_rows.sum()\n",
        "print(duplicated_rows_sum)"
      ],
      "metadata": {
        "colab": {
          "base_uri": "https://localhost:8080/"
        },
        "id": "0Drm4SkJmEMR",
        "outputId": "db51b590-1c78-4b7f-f94e-86f094bc0249"
      },
      "id": "0Drm4SkJmEMR",
      "execution_count": 28,
      "outputs": [
        {
          "output_type": "stream",
          "name": "stdout",
          "text": [
            "0\n"
          ]
        }
      ]
    },
    {
      "cell_type": "code",
      "source": [
        "duplicated_columns = data_source.T.duplicated()\n",
        "duplicated_columns_sum = duplicated_columns.sum()\n",
        "print(duplicated_columns_sum)"
      ],
      "metadata": {
        "colab": {
          "base_uri": "https://localhost:8080/"
        },
        "id": "2EZvlscgmIKb",
        "outputId": "189641b0-40b3-4cd4-b8d1-398c073f6a1e"
      },
      "id": "2EZvlscgmIKb",
      "execution_count": 29,
      "outputs": [
        {
          "output_type": "stream",
          "name": "stdout",
          "text": [
            "0\n"
          ]
        }
      ]
    },
    {
      "cell_type": "markdown",
      "source": [
        "# Working with outliers"
      ],
      "metadata": {
        "id": "O4ffPDHjmFhC"
      },
      "id": "O4ffPDHjmFhC"
    },
    {
      "cell_type": "code",
      "source": [
        "pd.set_option('display.max_rows', None)\n",
        "pd.set_option('display.max_columns', None)\n",
        "print(data_source)  # printing full dataframe for better overview"
      ],
      "metadata": {
        "colab": {
          "base_uri": "https://localhost:8080/"
        },
        "id": "DiGxJa76mMFS",
        "outputId": "3eca0dcb-cfbe-4f16-99ce-a53d2552ae07"
      },
      "id": "DiGxJa76mMFS",
      "execution_count": 30,
      "outputs": [
        {
          "output_type": "stream",
          "name": "stdout",
          "text": [
            "    Unnamed: 0           artist  \\\n",
            "0            0       The Weeknd   \n",
            "1            1      Tones And I   \n",
            "2            2      Roddy Ricch   \n",
            "3            3        SAINt JHN   \n",
            "4            4         Dua Lipa   \n",
            "5            5           DaBaby   \n",
            "6            6     Harry Styles   \n",
            "7            7            Powfu   \n",
            "8            8    Trevor Daniel   \n",
            "9            9    Lewis Capaldi   \n",
            "10          10          KAROL G   \n",
            "11          11   Arizona Zervas   \n",
            "12          12      Post Malone   \n",
            "13          13        Lil Mosey   \n",
            "14          14    Justin Bieber   \n",
            "15          15            Drake   \n",
            "16          16    Lewis Capaldi   \n",
            "17          17         Doja Cat   \n",
            "18          18         Maroon 5   \n",
            "19          19           Future   \n",
            "20          20        Jawsh 685   \n",
            "21          21     Harry Styles   \n",
            "22          22            Topic   \n",
            "23          23         24kGoldn   \n",
            "24          24    Billie Eilish   \n",
            "25          25     Shawn Mendes   \n",
            "26          26    Billie Eilish   \n",
            "27          27          Cardi B   \n",
            "28          28         Surfaces   \n",
            "29          29           Eminem   \n",
            "30          30    Justin Bieber   \n",
            "31          31         Dua Lipa   \n",
            "32          32              BTS   \n",
            "33          33            BENEE   \n",
            "34          34        Surf Mesa   \n",
            "35          35        Lady Gaga   \n",
            "36          36     Travis Scott   \n",
            "37          37      Post Malone   \n",
            "38          38           Maluma   \n",
            "39          39           Regard   \n",
            "40          40     Travis Scott   \n",
            "41          41  Black Eyed Peas   \n",
            "42          42       THE SCOTTS   \n",
            "43          43        Bad Bunny   \n",
            "44          44    Billie Eilish   \n",
            "45          45       Juice WRLD   \n",
            "46          46    Ariana Grande   \n",
            "47          47          JP Saxe   \n",
            "48          48         Dua Lipa   \n",
            "49          49     Travis Scott   \n",
            "\n",
            "                                                album  \\\n",
            "0                                         After Hours   \n",
            "1                                        Dance Monkey   \n",
            "2               Please Excuse Me For Being Antisocial   \n",
            "3                               Roses (Imanbek Remix)   \n",
            "4                                    Future Nostalgia   \n",
            "5                                    BLAME IT ON BABY   \n",
            "6                                           Fine Line   \n",
            "7                    death bed (coffee for your head)   \n",
            "8                                            Nicotine   \n",
            "9             Divinely Uninspired To A Hellish Extent   \n",
            "10                                               Tusa   \n",
            "11                                            ROXANNE   \n",
            "12                               Hollywood's Bleeding   \n",
            "13                                 Certified Hitmaker   \n",
            "14                                            Changes   \n",
            "15                               Dark Lane Demo Tapes   \n",
            "16  Divinely Uninspired To A Hellish Extent (Exten...   \n",
            "17                                           Hot Pink   \n",
            "18                                           Memories   \n",
            "19                                      High Off Life   \n",
            "20                   Savage Love (Laxed - Siren Beat)   \n",
            "21                                          Fine Line   \n",
            "22                                        Breaking Me   \n",
            "23                             Mood (feat. iann dior)   \n",
            "24                                everything i wanted   \n",
            "25                              Shawn Mendes (Deluxe)   \n",
            "26           WHEN WE ALL FALL ASLEEP, WHERE DO WE GO?   \n",
            "27                    WAP (feat. Megan Thee Stallion)   \n",
            "28                                 Where the Light Is   \n",
            "29                            Music To Be Murdered By   \n",
            "30                                            Changes   \n",
            "31                                   Future Nostalgia   \n",
            "32                         Dynamite (DayTime Version)   \n",
            "33                                            Hey u x   \n",
            "34               ily (i love you baby) (feat. Emilee)   \n",
            "35                                         Chromatica   \n",
            "36                                HIGHEST IN THE ROOM   \n",
            "37                               Hollywood's Bleeding   \n",
            "38                                       PAPI JUANCHO   \n",
            "39                                            Ride It   \n",
            "40                    Birds In The Trap Sing McKnight   \n",
            "41                                        Translation   \n",
            "42                                         THE SCOTTS   \n",
            "43                                           YHLQMDLG   \n",
            "44                               lovely (with Khalid)   \n",
            "45                            Goodbye & Good Riddance   \n",
            "46                                       Stuck with U   \n",
            "47     If the World Was Ending (feat. Julia Michaels)   \n",
            "48                                   Future Nostalgia   \n",
            "49                                         ASTROWORLD   \n",
            "\n",
            "                                        track_name                track_id  \\\n",
            "0                                  Blinding Lights  0VjIjW4GlUZAMYd2vXMi3b   \n",
            "1                                     Dance Monkey  1rgnBhdG2JDFTbYkYRZAku   \n",
            "2                                          The Box  0nbXyq5TXYPCO7pr3N8S4I   \n",
            "3                            Roses - Imanbek Remix  2Wo6QQD1KMDWeFkkjLqwx5   \n",
            "4                                  Don't Start Now  3PfIrDoz19wz7qK7tYeu62   \n",
            "5                     ROCKSTAR (feat. Roddy Ricch)  7ytR5pFWmSjzHJIeQkgog4   \n",
            "6                                 Watermelon Sugar  6UelLqGlWMcVH1E5c4H7lY   \n",
            "7                 death bed (coffee for your head)  7eJMfftS33KTjuF7lTsMCx   \n",
            "8                                          Falling  2rRJrJEo19S2J82BDsQ3F7   \n",
            "9                                Someone You Loved  7qEHsqek33rTcFNT9PFqLf   \n",
            "10                                            Tusa  7k4t7uLgtOxPwTpFmtJNTY   \n",
            "11                                         ROXANNE  696DnlkuDOXcMAnKlTgXXK   \n",
            "12                                         Circles  21jGcNKet2qwijlDFuPiPb   \n",
            "13                                 Blueberry Faygo  22LAwLoDA5b4AaGSkg6bKW   \n",
            "14                        Intentions (feat. Quavo)  4umIPjkehX1r7uhmGvXiSV   \n",
            "15                                    Toosie Slide  466cKvZn1j45IpxDdYZqdA   \n",
            "16                                   Before You Go  2gMXnyrvIjhVBUZwvLZDMP   \n",
            "17                                          Say So  3Dv1eDb0MEgF93GpLXlucZ   \n",
            "18                                        Memories  2b8fOow8UzyDFAE27YhOZM   \n",
            "19                      Life Is Good (feat. Drake)  1K5KBOgreBi5fkEHvg5ap3   \n",
            "20                Savage Love (Laxed - Siren Beat)  1xQ6trAsedVPCdbtDAmk0c   \n",
            "21                                       Adore You  3jjujdWJ72nww5eGnfs2E7   \n",
            "22                                     Breaking Me  3H7ihDc1dqLriiWXwsc2po   \n",
            "23                          Mood (feat. iann dior)  3tjFYV6RSFtuktYl3ZtYcq   \n",
            "24                             everything i wanted  3ZCTVFBt2Brf31RLEnCkWJ   \n",
            "25                                        Señorita  6v3KW9xbzN5yKLt9YKDYA2   \n",
            "26                                         bad guy  2Fxmhks0bxGSBdJ92vM42m   \n",
            "27                 WAP (feat. Megan Thee Stallion)  4Oun2ylbjFKMPTiaSbbCih   \n",
            "28                                     Sunday Best  1Cv1YLb4q0RzL6pybtaMLo   \n",
            "29                     Godzilla (feat. Juice WRLD)  7FIWs0pqAYbP91WWM0vlTQ   \n",
            "30                                           Yummy  16wAOAZ2OkqoIDN7TpChjR   \n",
            "31                                  Break My Heart  017PF4Q3l4DBUiWoXk4OWT   \n",
            "32                                        Dynamite  0t1kP63rueHleOhQkYSXFY   \n",
            "33                Supalonely (feat. Gus Dapperton)  3GZoWLVbmxcBys6g0DLFLf   \n",
            "34            ily (i love you baby) (feat. Emilee)  62aP9fBQKYKxi7PDXwcUAS   \n",
            "35                 Rain On Me (with Ariana Grande)  7ju97lgwC2rKQ6wwsf9no9   \n",
            "36                             HIGHEST IN THE ROOM  3eekarcy7kvN4yt5ZFzltW   \n",
            "37   Sunflower - Spider-Man: Into the Spider-Verse  0RiRZpuVRbi7oqRdSMwhQY   \n",
            "38                                           Hawái  1yoMvmasuxZfqHEipJhRbp   \n",
            "39                                         Ride It  2tnVG71enUj33Ic2nFN6kZ   \n",
            "40                                      goosebumps  6gBFPUFcJLzWGx4lenP6h2   \n",
            "41                       RITMO (Bad Boys For Life)  4NCsrTzgVfsDo8nWyP8PPc   \n",
            "42                                      THE SCOTTS  39Yp9wwQiSRIDOvrVg7mbk   \n",
            "43                                         Safaera  2DEZmgHKAvm41k4J3R2E9Y   \n",
            "44                            lovely (with Khalid)  0u2P5u6lvoDfwTYjAADbn4   \n",
            "45                                    Lucid Dreams  285pBltuF7vW8TeWk8hdRR   \n",
            "46               Stuck with U (with Justin Bieber)  4HBZA5flZLE435QTztThqH   \n",
            "47  If the World Was Ending - feat. Julia Michaels  2kJwzbxV2ppxnQoYw4GLBZ   \n",
            "48                                        Physical  3AzjcOeAmA57TIOr9zF1ZW   \n",
            "49                                      SICKO MODE  2xLMifQCjDGFmkHkpNLD9h   \n",
            "\n",
            "    energy  danceability  key  loudness  acousticness  speechiness  \\\n",
            "0    0.730         0.514    1    -5.934       0.00146       0.0598   \n",
            "1    0.593         0.825    6    -6.401       0.68800       0.0988   \n",
            "2    0.586         0.896   10    -6.687       0.10400       0.0559   \n",
            "3    0.721         0.785    8    -5.457       0.01490       0.0506   \n",
            "4    0.793         0.793   11    -4.521       0.01230       0.0830   \n",
            "5    0.690         0.746   11    -7.956       0.24700       0.1640   \n",
            "6    0.816         0.548    0    -4.209       0.12200       0.0465   \n",
            "7    0.431         0.726    8    -8.765       0.73100       0.1350   \n",
            "8    0.430         0.784   10    -8.756       0.12300       0.0364   \n",
            "9    0.405         0.501    1    -5.679       0.75100       0.0319   \n",
            "10   0.715         0.803    2    -3.280       0.29500       0.2980   \n",
            "11   0.601         0.621    6    -5.616       0.05220       0.1480   \n",
            "12   0.762         0.695    0    -3.497       0.19200       0.0395   \n",
            "13   0.554         0.774    0    -7.909       0.20700       0.0383   \n",
            "14   0.546         0.806    9    -6.637       0.30000       0.0575   \n",
            "15   0.490         0.830    1    -8.820       0.28900       0.2090   \n",
            "16   0.575         0.459    3    -4.858       0.60400       0.0573   \n",
            "17   0.673         0.787   11    -4.577       0.25600       0.1580   \n",
            "18   0.320         0.764   11    -7.209       0.83700       0.0546   \n",
            "19   0.574         0.795    2    -6.903       0.06700       0.4870   \n",
            "20   0.481         0.767    0    -8.520       0.23400       0.0803   \n",
            "21   0.771         0.676    8    -3.675       0.02370       0.0483   \n",
            "22   0.720         0.789    8    -5.652       0.22300       0.2180   \n",
            "23   0.722         0.700    7    -3.558       0.22100       0.0369   \n",
            "24   0.225         0.704    6   -14.454       0.90200       0.0994   \n",
            "25   0.548         0.759    9    -6.049       0.03920       0.0290   \n",
            "26   0.425         0.701    7   -10.965       0.32800       0.3750   \n",
            "27   0.454         0.935    1    -7.509       0.01940       0.3750   \n",
            "28   0.525         0.878    5    -6.832       0.18300       0.0578   \n",
            "29   0.745         0.808   10    -5.260       0.14500       0.3420   \n",
            "30   0.506         0.676    9    -6.652       0.34500       0.0958   \n",
            "31   0.729         0.730    4    -3.434       0.16700       0.0883   \n",
            "32   0.765         0.746    6    -4.410       0.01120       0.0993   \n",
            "33   0.631         0.862    7    -4.746       0.29100       0.0515   \n",
            "34   0.774         0.674   11    -7.567       0.06860       0.0892   \n",
            "35   0.855         0.672    9    -3.764       0.02100       0.0397   \n",
            "36   0.427         0.598    7    -8.764       0.05460       0.0317   \n",
            "37   0.522         0.755    2    -4.368       0.53300       0.0575   \n",
            "38   0.727         0.783    6    -3.454       0.18500       0.3890   \n",
            "39   0.751         0.880    7    -4.258       0.17700       0.0874   \n",
            "40   0.728         0.841    7    -3.370       0.08470       0.0484   \n",
            "41   0.704         0.723   10    -7.088       0.02590       0.0571   \n",
            "42   0.537         0.716    0    -7.648       0.23300       0.0514   \n",
            "43   0.829         0.607    2    -4.074       0.01030       0.3790   \n",
            "44   0.296         0.351    4   -10.109       0.93400       0.0333   \n",
            "45   0.566         0.511    6    -7.230       0.34900       0.2000   \n",
            "46   0.450         0.597    8    -6.658       0.22300       0.0418   \n",
            "47   0.473         0.464    1   -10.086       0.86600       0.1290   \n",
            "48   0.844         0.647    0    -3.756       0.01370       0.0457   \n",
            "49   0.730         0.834    8    -3.714       0.00513       0.2220   \n",
            "\n",
            "    instrumentalness  liveness  valence    tempo  duration_ms  \\\n",
            "0           0.000095    0.0897   0.3340  171.005       200040   \n",
            "1           0.000161    0.1700   0.5400   98.078       209755   \n",
            "2           0.000000    0.7900   0.6420  116.971       196653   \n",
            "3           0.004320    0.2850   0.8940  121.962       176219   \n",
            "4           0.000000    0.0951   0.6790  123.950       183290   \n",
            "5           0.000000    0.1010   0.4970   89.977       181733   \n",
            "6           0.000000    0.3350   0.5570   95.390       174000   \n",
            "7           0.000000    0.6960   0.3480  144.026       173333   \n",
            "8           0.000000    0.0887   0.2360  127.087       159382   \n",
            "9           0.000000    0.1050   0.4460  109.891       182161   \n",
            "10          0.000134    0.0574   0.5740  101.085       200960   \n",
            "11          0.000000    0.4600   0.4570  116.735       163636   \n",
            "12          0.002440    0.0863   0.5530  120.042       215280   \n",
            "13          0.000000    0.1320   0.3490   99.034       162547   \n",
            "14          0.000000    0.1020   0.8740  147.986       212867   \n",
            "15          0.000003    0.1130   0.8450   81.604       247059   \n",
            "16          0.000000    0.0885   0.1830  111.881       215107   \n",
            "17          0.000004    0.0904   0.7860  110.962       237893   \n",
            "18          0.000000    0.0822   0.5750   91.019       189486   \n",
            "19          0.000000    0.1500   0.5370  142.053       237918   \n",
            "20          0.000000    0.2690   0.7610  150.076       171375   \n",
            "21          0.000007    0.1020   0.5690   99.048       207133   \n",
            "22          0.000000    0.1290   0.6640  122.031       166794   \n",
            "23          0.000000    0.2720   0.7560   90.989       140526   \n",
            "24          0.657000    0.1060   0.2430  120.006       245426   \n",
            "25          0.000000    0.0828   0.7490  116.967       190800   \n",
            "26          0.130000    0.1000   0.5620  135.128       194088   \n",
            "27          0.000000    0.0824   0.3570  133.073       187541   \n",
            "28          0.000000    0.0714   0.6940  112.022       158571   \n",
            "29          0.000000    0.2920   0.8290  165.995       210800   \n",
            "30          0.000000    0.1180   0.4970  145.842       208520   \n",
            "31          0.000001    0.3490   0.4670  113.013       221820   \n",
            "32          0.000000    0.0936   0.7370  114.044       199054   \n",
            "33          0.000209    0.1230   0.8410  128.978       223488   \n",
            "34          0.001880    0.3930   0.3300  112.050       176547   \n",
            "35          0.000000    0.3230   0.6460  123.056       182200   \n",
            "36          0.000006    0.2100   0.0605   76.469       175721   \n",
            "37          0.000000    0.0685   0.9250   89.960       157560   \n",
            "38          0.000025    0.0626   0.5580  180.067       199112   \n",
            "39          0.000064    0.1060   0.8840  117.948       157606   \n",
            "40          0.000000    0.1490   0.4300  130.049       243837   \n",
            "41          0.001090    0.7920   0.6840  105.095       214935   \n",
            "42          0.000000    0.1570   0.2800  129.979       165978   \n",
            "43          0.000000    0.1070   0.6850   96.172       295177   \n",
            "44          0.000000    0.0950   0.1200  115.284       200186   \n",
            "45          0.000000    0.3400   0.2180   83.903       239836   \n",
            "46          0.000000    0.3820   0.5370  178.765       228482   \n",
            "47          0.000000    0.1090   0.6040   75.801       208687   \n",
            "48          0.000658    0.1020   0.7460  146.967       193829   \n",
            "49          0.000000    0.1240   0.4460  155.008       312820   \n",
            "\n",
            "                                 genre  \n",
            "0                             R&B/Soul  \n",
            "1                    Alternative/Indie  \n",
            "2                          Hip-Hop/Rap  \n",
            "3                     Dance/Electronic  \n",
            "4                             Nu-disco  \n",
            "5                          Hip-Hop/Rap  \n",
            "6                                  Pop  \n",
            "7                          Hip-Hop/Rap  \n",
            "8              R&B/Hip-Hop alternative  \n",
            "9                    Alternative/Indie  \n",
            "10                                 Pop  \n",
            "11                         Hip-Hop/Rap  \n",
            "12                       Pop/Soft Rock  \n",
            "13                         Hip-Hop/Rap  \n",
            "14                                 Pop  \n",
            "15                         Hip-Hop/Rap  \n",
            "16                   Alternative/Indie  \n",
            "17                            R&B/Soul  \n",
            "18                                 Pop  \n",
            "19                         Hip-Hop/Rap  \n",
            "20                         Hip-Hop/Rap  \n",
            "21                                 Pop  \n",
            "22                    Dance/Electronic  \n",
            "23                             Pop rap  \n",
            "24                                 Pop  \n",
            "25                                 Pop  \n",
            "26                         Electro-pop  \n",
            "27                        Hip-Hop/Trap  \n",
            "28                         Electro-pop  \n",
            "29                         Hip-Hop/Rap  \n",
            "30                                 Pop  \n",
            "31                     Dance-pop/Disco  \n",
            "32                           Disco-pop  \n",
            "33                   Alternative/Indie  \n",
            "34                    Dance/Electronic  \n",
            "35                                 Pop  \n",
            "36                         Hip-Hop/Rap  \n",
            "37                Dreampop/Hip-Hop/R&B  \n",
            "38                                 Pop  \n",
            "39                    Dance/Electronic  \n",
            "40                         Hip-Hop/Rap  \n",
            "41                                 Pop  \n",
            "42                         Hip-Hop/Rap  \n",
            "43  Alternative/reggaeton/experimental  \n",
            "44                         Chamber pop  \n",
            "45                                 Pop  \n",
            "46                                 Pop  \n",
            "47                                 Pop  \n",
            "48                    Dance/Electronic  \n",
            "49                         Hip-Hop/Rap  \n"
          ]
        }
      ]
    },
    {
      "cell_type": "code",
      "source": [
        "print(data_source.describe())"
      ],
      "metadata": {
        "colab": {
          "base_uri": "https://localhost:8080/"
        },
        "id": "s17K1tkdmOGK",
        "outputId": "7c38758c-004a-404d-abfd-cf3924ad28cd"
      },
      "id": "s17K1tkdmOGK",
      "execution_count": 31,
      "outputs": [
        {
          "output_type": "stream",
          "name": "stdout",
          "text": [
            "       Unnamed: 0     energy  danceability        key   loudness  \\\n",
            "count    50.00000  50.000000     50.000000  50.000000  50.000000   \n",
            "mean     24.50000   0.609300      0.716720   5.720000  -6.225900   \n",
            "std      14.57738   0.154348      0.124975   3.709007   2.349744   \n",
            "min       0.00000   0.225000      0.351000   0.000000 -14.454000   \n",
            "25%      12.25000   0.494000      0.672500   2.000000  -7.552500   \n",
            "50%      24.50000   0.597000      0.746000   6.500000  -5.991500   \n",
            "75%      36.75000   0.729750      0.794500   8.750000  -4.285500   \n",
            "max      49.00000   0.855000      0.935000  11.000000  -3.280000   \n",
            "\n",
            "       acousticness  speechiness  instrumentalness   liveness    valence  \\\n",
            "count     50.000000    50.000000         50.000000  50.000000  50.000000   \n",
            "mean       0.256206     0.124158          0.015962   0.196552   0.555710   \n",
            "std        0.265250     0.116836          0.094312   0.176610   0.216386   \n",
            "min        0.001460     0.029000          0.000000   0.057400   0.060500   \n",
            "25%        0.052800     0.048325          0.000000   0.093950   0.434000   \n",
            "50%        0.188500     0.070050          0.000000   0.111000   0.560000   \n",
            "75%        0.298750     0.155500          0.000020   0.271250   0.726250   \n",
            "max        0.934000     0.487000          0.657000   0.792000   0.925000   \n",
            "\n",
            "            tempo    duration_ms  \n",
            "count   50.000000      50.000000  \n",
            "mean   119.690460  199955.360000  \n",
            "std     25.414778   33996.122488  \n",
            "min     75.801000  140526.000000  \n",
            "25%     99.557250  175845.500000  \n",
            "50%    116.969000  197853.500000  \n",
            "75%    132.317000  215064.000000  \n",
            "max    180.067000  312820.000000  \n"
          ]
        }
      ]
    },
    {
      "cell_type": "markdown",
      "source": [
        "Numeric values like energy, key, loudness, acousticness, speechiness, instrumentalness, liveness, valence, tempo, danceability are subjective and based on taste so can't be measured."
      ],
      "metadata": {
        "id": "kmDQJ640qgFK"
      },
      "id": "kmDQJ640qgFK"
    },
    {
      "cell_type": "code",
      "source": [
        "data_source['duration_ms'] = data_source['duration_ms']/60000\n",
        "\n",
        "plt.hist(data_source['duration_ms'])\n",
        "plt.show()\n",
        "print(data_source['duration_ms'].describe())"
      ],
      "metadata": {
        "colab": {
          "base_uri": "https://localhost:8080/",
          "height": 596
        },
        "id": "4tzOYpWJmUzD",
        "outputId": "55b45851-ad5c-40cd-abeb-12def6803e77"
      },
      "id": "4tzOYpWJmUzD",
      "execution_count": 32,
      "outputs": [
        {
          "output_type": "display_data",
          "data": {
            "text/plain": [
              "<Figure size 640x480 with 1 Axes>"
            ],
            "image/png": "[encoded data removed]"
          },
          "metadata": {}
        },
        {
          "output_type": "stream",
          "name": "stdout",
          "text": [
            "count    50.000000\n",
            "mean      3.332589\n",
            "std       0.566602\n",
            "min       2.342100\n",
            "25%       2.930758\n",
            "50%       3.297558\n",
            "75%       3.584400\n",
            "max       5.213667\n",
            "Name: duration_ms, dtype: float64\n"
          ]
        }
      ]
    },
    {
      "cell_type": "markdown",
      "source": [
        "# How many observations are there in this dataset?"
      ],
      "metadata": {
        "id": "9AMmtTDpmqja"
      },
      "id": "9AMmtTDpmqja"
    },
    {
      "cell_type": "code",
      "source": [
        "number_of_observations = data_source.shape[0]\n",
        "print(number_of_observations)"
      ],
      "metadata": {
        "colab": {
          "base_uri": "https://localhost:8080/"
        },
        "id": "FQFhn4s8mrYR",
        "outputId": "7dc6a6ef-30ca-4c26-88d7-5ae78ac83adb"
      },
      "id": "FQFhn4s8mrYR",
      "execution_count": 33,
      "outputs": [
        {
          "output_type": "stream",
          "name": "stdout",
          "text": [
            "50\n"
          ]
        }
      ]
    },
    {
      "cell_type": "markdown",
      "source": [
        "# How many features this dataset has?"
      ],
      "metadata": {
        "id": "iDsoWrn9ms55"
      },
      "id": "iDsoWrn9ms55"
    },
    {
      "cell_type": "code",
      "source": [
        "number_of_features = data_source.shape[1]\n",
        "print(number_of_features)"
      ],
      "metadata": {
        "colab": {
          "base_uri": "https://localhost:8080/"
        },
        "id": "ZDHlXm3Umw1p",
        "outputId": "15d94b37-7afd-411a-f563-12a1bba6e7f7"
      },
      "id": "ZDHlXm3Umw1p",
      "execution_count": 34,
      "outputs": [
        {
          "output_type": "stream",
          "name": "stdout",
          "text": [
            "17\n"
          ]
        }
      ]
    },
    {
      "cell_type": "markdown",
      "source": [
        "# Which of the features are categorical?"
      ],
      "metadata": {
        "id": "bK6DOQZgmyE6"
      },
      "id": "bK6DOQZgmyE6"
    },
    {
      "cell_type": "code",
      "source": [
        "all_features_values = data_source.dtypes\n",
        "print(all_features_values)"
      ],
      "metadata": {
        "colab": {
          "base_uri": "https://localhost:8080/"
        },
        "id": "DpqhprRhm0Tq",
        "outputId": "2c02dfff-39b5-49a0-acdd-6b941f92b099"
      },
      "id": "DpqhprRhm0Tq",
      "execution_count": 35,
      "outputs": [
        {
          "output_type": "stream",
          "name": "stdout",
          "text": [
            "Unnamed: 0            int64\n",
            "artist               object\n",
            "album                object\n",
            "track_name           object\n",
            "track_id             object\n",
            "energy              float64\n",
            "danceability        float64\n",
            "key                   int64\n",
            "loudness            float64\n",
            "acousticness        float64\n",
            "speechiness         float64\n",
            "instrumentalness    float64\n",
            "liveness            float64\n",
            "valence             float64\n",
            "tempo               float64\n",
            "duration_ms         float64\n",
            "genre                object\n",
            "dtype: object\n"
          ]
        }
      ]
    },
    {
      "cell_type": "code",
      "source": [
        "categorical_features = data_source.select_dtypes(include=['object']).columns.tolist()\n",
        "print(categorical_features)"
      ],
      "metadata": {
        "colab": {
          "base_uri": "https://localhost:8080/"
        },
        "id": "9cxGD8Xbm4aB",
        "outputId": "8c65d31f-7eea-44ce-b0a1-ef891bb338f9"
      },
      "id": "9cxGD8Xbm4aB",
      "execution_count": 36,
      "outputs": [
        {
          "output_type": "stream",
          "name": "stdout",
          "text": [
            "['artist', 'album', 'track_name', 'track_id', 'genre']\n"
          ]
        }
      ]
    },
    {
      "cell_type": "markdown",
      "source": [
        "# Which of the features are numeric?"
      ],
      "metadata": {
        "id": "baVZX9H7m4_u"
      },
      "id": "baVZX9H7m4_u"
    },
    {
      "cell_type": "code",
      "source": [
        "numeric_features = data_source.select_dtypes(include=['float64', 'int64']).columns.tolist()\n",
        "print(numeric_features)"
      ],
      "metadata": {
        "colab": {
          "base_uri": "https://localhost:8080/"
        },
        "id": "to40lnsvm68D",
        "outputId": "a0ef7ef6-6fa7-43a6-c431-defa1e0b6522"
      },
      "id": "to40lnsvm68D",
      "execution_count": 37,
      "outputs": [
        {
          "output_type": "stream",
          "name": "stdout",
          "text": [
            "['Unnamed: 0', 'energy', 'danceability', 'key', 'loudness', 'acousticness', 'speechiness', 'instrumentalness', 'liveness', 'valence', 'tempo', 'duration_ms']\n"
          ]
        }
      ]
    },
    {
      "cell_type": "markdown",
      "source": [
        "# Are there any artists that have more than 1 popular track? If yes, which and how many?"
      ],
      "metadata": {
        "id": "geLL_Cnwm8OK"
      },
      "id": "geLL_Cnwm8OK"
    },
    {
      "cell_type": "code",
      "source": [
        "repeating_artists = data_source['artist'].value_counts()\n",
        "repeating_artists_top = repeating_artists[repeating_artists >= 2]\n",
        "print(repeating_artists_top)"
      ],
      "metadata": {
        "colab": {
          "base_uri": "https://localhost:8080/"
        },
        "id": "N_xYOcjim_mZ",
        "outputId": "ae6d175b-ca5f-45ba-f738-7a88900a2f55"
      },
      "id": "N_xYOcjim_mZ",
      "execution_count": 38,
      "outputs": [
        {
          "output_type": "stream",
          "name": "stdout",
          "text": [
            "Billie Eilish    3\n",
            "Dua Lipa         3\n",
            "Travis Scott     3\n",
            "Justin Bieber    2\n",
            "Harry Styles     2\n",
            "Lewis Capaldi    2\n",
            "Post Malone      2\n",
            "Name: artist, dtype: int64\n"
          ]
        }
      ]
    },
    {
      "cell_type": "markdown",
      "source": [
        "# How many artists in total have their songs in the top 50?"
      ],
      "metadata": {
        "id": "SPa1tnu1nDPC"
      },
      "id": "SPa1tnu1nDPC"
    },
    {
      "cell_type": "code",
      "source": [
        "unique_artists = data_source['artist'].nunique()\n",
        "print(unique_artists)"
      ],
      "metadata": {
        "colab": {
          "base_uri": "https://localhost:8080/"
        },
        "id": "0dh-gxNCnDwx",
        "outputId": "177be8f1-2627-432c-ab83-b3c2f74b3117"
      },
      "id": "0dh-gxNCnDwx",
      "execution_count": 39,
      "outputs": [
        {
          "output_type": "stream",
          "name": "stdout",
          "text": [
            "40\n"
          ]
        }
      ]
    },
    {
      "cell_type": "markdown",
      "source": [
        "# Are there any albums that have more than 1 popular track? If yes, which and how many?"
      ],
      "metadata": {
        "id": "QBfw7bFDnFWs"
      },
      "id": "QBfw7bFDnFWs"
    },
    {
      "cell_type": "code",
      "source": [
        "repeating_albums = data_source['album'].value_counts()\n",
        "repeating_albums_top = repeating_albums[repeating_albums >= 2]\n",
        "print(repeating_albums_top)"
      ],
      "metadata": {
        "colab": {
          "base_uri": "https://localhost:8080/"
        },
        "id": "Q2O9GHmunHFq",
        "outputId": "152f4735-1c35-4fd8-a729-fdf243281a14"
      },
      "id": "Q2O9GHmunHFq",
      "execution_count": 40,
      "outputs": [
        {
          "output_type": "stream",
          "name": "stdout",
          "text": [
            "Future Nostalgia        3\n",
            "Hollywood's Bleeding    2\n",
            "Fine Line               2\n",
            "Changes                 2\n",
            "Name: album, dtype: int64\n"
          ]
        }
      ]
    },
    {
      "cell_type": "markdown",
      "source": [
        "# How many albums in total have their songs in the top 50?"
      ],
      "metadata": {
        "id": "F4FrKqPFnIyh"
      },
      "id": "F4FrKqPFnIyh"
    },
    {
      "cell_type": "code",
      "source": [
        "unique_albums = data_source['album'].nunique()\n",
        "print(unique_albums)"
      ],
      "metadata": {
        "colab": {
          "base_uri": "https://localhost:8080/"
        },
        "id": "pjSuWnSNnMZC",
        "outputId": "49f74157-0575-4f50-c8e2-31f164220895"
      },
      "id": "pjSuWnSNnMZC",
      "execution_count": 41,
      "outputs": [
        {
          "output_type": "stream",
          "name": "stdout",
          "text": [
            "45\n"
          ]
        }
      ]
    },
    {
      "cell_type": "markdown",
      "source": [
        "# Which tracks have a danceability score above 0.7?"
      ],
      "metadata": {
        "id": "s8FHDgnRnYNq"
      },
      "id": "s8FHDgnRnYNq"
    },
    {
      "cell_type": "code",
      "source": [
        "high_danceability = data_source[data_source['danceability'] > 0.7]\n",
        "high_danceability_names = high_danceability['track_name']\n",
        "print(high_danceability_names)"
      ],
      "metadata": {
        "colab": {
          "base_uri": "https://localhost:8080/"
        },
        "id": "lhB3u_HHnYlh",
        "outputId": "30adb665-e6e5-4f0e-869c-5f32d1e414f3"
      },
      "id": "lhB3u_HHnYlh",
      "execution_count": 42,
      "outputs": [
        {
          "output_type": "stream",
          "name": "stdout",
          "text": [
            "1                                      Dance Monkey\n",
            "2                                           The Box\n",
            "3                             Roses - Imanbek Remix\n",
            "4                                   Don't Start Now\n",
            "5                      ROCKSTAR (feat. Roddy Ricch)\n",
            "7                  death bed (coffee for your head)\n",
            "8                                           Falling\n",
            "10                                             Tusa\n",
            "13                                  Blueberry Faygo\n",
            "14                         Intentions (feat. Quavo)\n",
            "15                                     Toosie Slide\n",
            "17                                           Say So\n",
            "18                                         Memories\n",
            "19                       Life Is Good (feat. Drake)\n",
            "20                 Savage Love (Laxed - Siren Beat)\n",
            "22                                      Breaking Me\n",
            "24                              everything i wanted\n",
            "25                                         Señorita\n",
            "26                                          bad guy\n",
            "27                  WAP (feat. Megan Thee Stallion)\n",
            "28                                      Sunday Best\n",
            "29                      Godzilla (feat. Juice WRLD)\n",
            "31                                   Break My Heart\n",
            "32                                         Dynamite\n",
            "33                 Supalonely (feat. Gus Dapperton)\n",
            "37    Sunflower - Spider-Man: Into the Spider-Verse\n",
            "38                                            Hawái\n",
            "39                                          Ride It\n",
            "40                                       goosebumps\n",
            "41                        RITMO (Bad Boys For Life)\n",
            "42                                       THE SCOTTS\n",
            "49                                       SICKO MODE\n",
            "Name: track_name, dtype: object\n"
          ]
        }
      ]
    },
    {
      "cell_type": "markdown",
      "source": [
        "# Which tracks have a danceability score below 0.4?"
      ],
      "metadata": {
        "id": "3MiDMzLSnavC"
      },
      "id": "3MiDMzLSnavC"
    },
    {
      "cell_type": "code",
      "source": [
        "low_danceability = data_source[data_source['danceability'] < 0.4]\n",
        "low_danceability_names = low_danceability['track_name']\n",
        "print(low_danceability_names)"
      ],
      "metadata": {
        "colab": {
          "base_uri": "https://localhost:8080/"
        },
        "id": "UroHONGinoyJ",
        "outputId": "a891988d-a31d-402d-8bef-3eb1ea9720d5"
      },
      "id": "UroHONGinoyJ",
      "execution_count": 43,
      "outputs": [
        {
          "output_type": "stream",
          "name": "stdout",
          "text": [
            "44    lovely (with Khalid)\n",
            "Name: track_name, dtype: object\n"
          ]
        }
      ]
    },
    {
      "cell_type": "markdown",
      "source": [
        "# Which tracks have their loudness above -5?"
      ],
      "metadata": {
        "id": "1xhHsvB0nesz"
      },
      "id": "1xhHsvB0nesz"
    },
    {
      "cell_type": "code",
      "source": [
        "high_loudness = data_source[data_source['loudness'] > -5]\n",
        "high_loudness_names = high_loudness['track_name']\n",
        "print(high_loudness_names)"
      ],
      "metadata": {
        "colab": {
          "base_uri": "https://localhost:8080/"
        },
        "id": "0YGqGLH9ntMl",
        "outputId": "37756d01-ac32-419a-bded-a7e3e5271e14"
      },
      "id": "0YGqGLH9ntMl",
      "execution_count": 44,
      "outputs": [
        {
          "output_type": "stream",
          "name": "stdout",
          "text": [
            "4                                   Don't Start Now\n",
            "6                                  Watermelon Sugar\n",
            "10                                             Tusa\n",
            "12                                          Circles\n",
            "16                                    Before You Go\n",
            "17                                           Say So\n",
            "21                                        Adore You\n",
            "23                           Mood (feat. iann dior)\n",
            "31                                   Break My Heart\n",
            "32                                         Dynamite\n",
            "33                 Supalonely (feat. Gus Dapperton)\n",
            "35                  Rain On Me (with Ariana Grande)\n",
            "37    Sunflower - Spider-Man: Into the Spider-Verse\n",
            "38                                            Hawái\n",
            "39                                          Ride It\n",
            "40                                       goosebumps\n",
            "43                                          Safaera\n",
            "48                                         Physical\n",
            "49                                       SICKO MODE\n",
            "Name: track_name, dtype: object\n"
          ]
        }
      ]
    },
    {
      "cell_type": "markdown",
      "source": [
        "# Which tracks have their loudness below -8?"
      ],
      "metadata": {
        "id": "BmM0Yo53nhMi"
      },
      "id": "BmM0Yo53nhMi"
    },
    {
      "cell_type": "code",
      "source": [
        "low_loudness = data_source[data_source['loudness'] > -5]\n",
        "low_loudness_names = low_loudness['track_name']\n",
        "print(high_loudness_names)"
      ],
      "metadata": {
        "colab": {
          "base_uri": "https://localhost:8080/"
        },
        "id": "TFbA24iNnxRT",
        "outputId": "e86956fd-b6f7-400d-fd56-be2acc40ceb8"
      },
      "id": "TFbA24iNnxRT",
      "execution_count": 45,
      "outputs": [
        {
          "output_type": "stream",
          "name": "stdout",
          "text": [
            "4                                   Don't Start Now\n",
            "6                                  Watermelon Sugar\n",
            "10                                             Tusa\n",
            "12                                          Circles\n",
            "16                                    Before You Go\n",
            "17                                           Say So\n",
            "21                                        Adore You\n",
            "23                           Mood (feat. iann dior)\n",
            "31                                   Break My Heart\n",
            "32                                         Dynamite\n",
            "33                 Supalonely (feat. Gus Dapperton)\n",
            "35                  Rain On Me (with Ariana Grande)\n",
            "37    Sunflower - Spider-Man: Into the Spider-Verse\n",
            "38                                            Hawái\n",
            "39                                          Ride It\n",
            "40                                       goosebumps\n",
            "43                                          Safaera\n",
            "48                                         Physical\n",
            "49                                       SICKO MODE\n",
            "Name: track_name, dtype: object\n"
          ]
        }
      ]
    },
    {
      "cell_type": "markdown",
      "source": [
        "# Which track is the longest?"
      ],
      "metadata": {
        "id": "uEDeQLT3nxvN"
      },
      "id": "uEDeQLT3nxvN"
    },
    {
      "cell_type": "code",
      "source": [
        "longest_song = data_source['duration_ms'].max()\n",
        "longest_song_row = data_source[data_source['duration_ms'] == longest_song]\n",
        "longest_song_name = longest_song_row['track_name'].values[0]\n",
        "print(longest_song)\n",
        "print(longest_song_name)"
      ],
      "metadata": {
        "colab": {
          "base_uri": "https://localhost:8080/"
        },
        "id": "vEOSiOGVnzBi",
        "outputId": "4932b5bd-b7fc-4ad3-b699-c6218dd1a90a"
      },
      "id": "vEOSiOGVnzBi",
      "execution_count": 46,
      "outputs": [
        {
          "output_type": "stream",
          "name": "stdout",
          "text": [
            "5.213666666666667\n",
            "SICKO MODE\n"
          ]
        }
      ]
    },
    {
      "cell_type": "markdown",
      "source": [
        "# Which track is the shortest?"
      ],
      "metadata": {
        "id": "Pq2M9nU1n5QM"
      },
      "id": "Pq2M9nU1n5QM"
    },
    {
      "cell_type": "code",
      "source": [
        "shortest_song = data_source['duration_ms'].min()\n",
        "shortest_song_row = data_source[data_source['duration_ms'] == shortest_song]\n",
        "shortest_song_name = shortest_song_row['track_name'].values[0]\n",
        "print(shortest_song)\n",
        "print(shortest_song_name)"
      ],
      "metadata": {
        "colab": {
          "base_uri": "https://localhost:8080/"
        },
        "id": "cqdBNVsOn5yD",
        "outputId": "0b331bf5-c5dc-4b30-ca26-d4c22d08bfa8"
      },
      "id": "cqdBNVsOn5yD",
      "execution_count": 47,
      "outputs": [
        {
          "output_type": "stream",
          "name": "stdout",
          "text": [
            "2.3421\n",
            "Mood (feat. iann dior)\n"
          ]
        }
      ]
    },
    {
      "cell_type": "markdown",
      "source": [
        "# Which genre is the most popular?"
      ],
      "metadata": {
        "id": "DOJrC__Tn7Tk"
      },
      "id": "DOJrC__Tn7Tk"
    },
    {
      "cell_type": "code",
      "source": [
        "genre = data_source['genre'].value_counts()\n",
        "print(genre)"
      ],
      "metadata": {
        "colab": {
          "base_uri": "https://localhost:8080/"
        },
        "id": "hEGmnMhqn_Ky",
        "outputId": "3cfd7196-7e7f-4166-bc77-02c5ca31e170"
      },
      "id": "hEGmnMhqn_Ky",
      "execution_count": 48,
      "outputs": [
        {
          "output_type": "stream",
          "name": "stdout",
          "text": [
            "Pop                                   14\n",
            "Hip-Hop/Rap                           13\n",
            "Dance/Electronic                       5\n",
            "Alternative/Indie                      4\n",
            "R&B/Soul                               2\n",
            " Electro-pop                           2\n",
            "Nu-disco                               1\n",
            "R&B/Hip-Hop alternative                1\n",
            "Pop/Soft Rock                          1\n",
            "Pop rap                                1\n",
            "Hip-Hop/Trap                           1\n",
            "Dance-pop/Disco                        1\n",
            "Disco-pop                              1\n",
            "Dreampop/Hip-Hop/R&B                   1\n",
            "Alternative/reggaeton/experimental     1\n",
            "Chamber pop                            1\n",
            "Name: genre, dtype: int64\n"
          ]
        }
      ]
    },
    {
      "cell_type": "code",
      "source": [
        "split_genre = data_source['genre'].str.split('/', expand=True)\n",
        "split_genre.columns = ['genre1', 'genre2', 'genre3']\n",
        "\n",
        "split_genre_df = pd.concat([split_genre['genre1'], split_genre['genre2'], split_genre['genre3']])\n",
        "split_genre_count = pd.concat([split_genre['genre1'], split_genre['genre2'], split_genre['genre3']]).value_counts()\n",
        "print(split_genre_count)"
      ],
      "metadata": {
        "colab": {
          "base_uri": "https://localhost:8080/"
        },
        "id": "gU3OOULioBmS",
        "outputId": "ac1d93e9-08c8-4771-e765-5a6f0045e38e"
      },
      "id": "gU3OOULioBmS",
      "execution_count": 49,
      "outputs": [
        {
          "output_type": "stream",
          "name": "stdout",
          "text": [
            "Hip-Hop                15\n",
            "Pop                    15\n",
            "Rap                    13\n",
            "Electronic              5\n",
            "Dance                   5\n",
            "Alternative             5\n",
            "R&B                     4\n",
            "Indie                   4\n",
            " Electro-pop            2\n",
            "Soul                    2\n",
            "reggaeton               1\n",
            "Disco                   1\n",
            "Trap                    1\n",
            "Soft Rock               1\n",
            "Hip-Hop alternative     1\n",
            "Chamber pop             1\n",
            "Dreampop                1\n",
            "Disco-pop               1\n",
            "Dance-pop               1\n",
            "Pop rap                 1\n",
            "Nu-disco                1\n",
            "experimental            1\n",
            "dtype: int64\n"
          ]
        }
      ]
    },
    {
      "cell_type": "markdown",
      "source": [
        "# Which genres have just one song on the top 50?"
      ],
      "metadata": {
        "id": "5DVVKaz_oHAK"
      },
      "id": "5DVVKaz_oHAK"
    },
    {
      "cell_type": "code",
      "source": [
        "genres_1song = split_genre_count[split_genre_count == 1]\n",
        "print(genres_1song)"
      ],
      "metadata": {
        "colab": {
          "base_uri": "https://localhost:8080/"
        },
        "id": "QU5Ay5ueoH67",
        "outputId": "ab80fc6f-87fb-4ae8-998e-2089a89bdc5b"
      },
      "id": "QU5Ay5ueoH67",
      "execution_count": 50,
      "outputs": [
        {
          "output_type": "stream",
          "name": "stdout",
          "text": [
            "reggaeton              1\n",
            "Disco                  1\n",
            "Trap                   1\n",
            "Soft Rock              1\n",
            "Hip-Hop alternative    1\n",
            "Chamber pop            1\n",
            "Dreampop               1\n",
            "Disco-pop              1\n",
            "Dance-pop              1\n",
            "Pop rap                1\n",
            "Nu-disco               1\n",
            "experimental           1\n",
            "dtype: int64\n"
          ]
        }
      ]
    },
    {
      "cell_type": "markdown",
      "source": [
        "# How many genres in total are represented in the top 50?"
      ],
      "metadata": {
        "id": "39vcDiwnoJeC"
      },
      "id": "39vcDiwnoJeC"
    },
    {
      "cell_type": "code",
      "source": [
        "unique_genres = data_source['genre'].nunique()  # number of genres without spliting\n",
        "print(unique_genres)"
      ],
      "metadata": {
        "colab": {
          "base_uri": "https://localhost:8080/"
        },
        "id": "_F4k8SR6oKxT",
        "outputId": "88fc3d2a-050c-400f-f933-e50e263cd6d6"
      },
      "id": "_F4k8SR6oKxT",
      "execution_count": 51,
      "outputs": [
        {
          "output_type": "stream",
          "name": "stdout",
          "text": [
            "16\n"
          ]
        }
      ]
    },
    {
      "cell_type": "code",
      "source": [
        "unique_genres_split = split_genre_df.nunique()  # number of genres with spliting\n",
        "print(unique_genres_split)"
      ],
      "metadata": {
        "colab": {
          "base_uri": "https://localhost:8080/"
        },
        "id": "YDdMmvHGoMq6",
        "outputId": "fd3ea4e2-cfc1-4867-e32e-a58250b5c39e"
      },
      "id": "YDdMmvHGoMq6",
      "execution_count": 52,
      "outputs": [
        {
          "output_type": "stream",
          "name": "stdout",
          "text": [
            "22\n"
          ]
        }
      ]
    },
    {
      "cell_type": "code",
      "source": [
        "unique_genres_names = split_genre_df.drop_duplicates().dropna()  # names of unique genres with spliting\n",
        "print(unique_genres_names)"
      ],
      "metadata": {
        "colab": {
          "base_uri": "https://localhost:8080/"
        },
        "id": "X5rGKicMoOdT",
        "outputId": "407ef784-a289-4c17-be42-b4cbffa48562"
      },
      "id": "X5rGKicMoOdT",
      "execution_count": 53,
      "outputs": [
        {
          "output_type": "stream",
          "name": "stdout",
          "text": [
            "0                     R&B\n",
            "1             Alternative\n",
            "2                 Hip-Hop\n",
            "3                   Dance\n",
            "4                Nu-disco\n",
            "6                     Pop\n",
            "23                Pop rap\n",
            "26            Electro-pop\n",
            "31              Dance-pop\n",
            "32              Disco-pop\n",
            "37               Dreampop\n",
            "44            Chamber pop\n",
            "0                    Soul\n",
            "1                   Indie\n",
            "2                     Rap\n",
            "3              Electronic\n",
            "8     Hip-Hop alternative\n",
            "12              Soft Rock\n",
            "27                   Trap\n",
            "31                  Disco\n",
            "43              reggaeton\n",
            "43           experimental\n",
            "dtype: object\n"
          ]
        }
      ]
    },
    {
      "cell_type": "markdown",
      "source": [
        "# Which features are strongly positively correlated?"
      ],
      "metadata": {
        "id": "Ba-AP_CGoRvM"
      },
      "id": "Ba-AP_CGoRvM"
    },
    {
      "cell_type": "code",
      "source": [
        "df_numeric = data_source.select_dtypes(include=['float64', 'int64'])\n",
        "correlation = df_numeric.corr()\n",
        "print(correlation)"
      ],
      "metadata": {
        "colab": {
          "base_uri": "https://localhost:8080/"
        },
        "id": "p21VDTXaoSTj",
        "outputId": "c2d60591-f66c-4eae-b3e7-d1cb3a102ae0"
      },
      "id": "p21VDTXaoSTj",
      "execution_count": 54,
      "outputs": [
        {
          "output_type": "stream",
          "name": "stdout",
          "text": [
            "                  Unnamed: 0    energy  danceability       key  loudness  \\\n",
            "Unnamed: 0          1.000000  0.030381     -0.176321 -0.052844  0.034935   \n",
            "energy              0.030381  1.000000      0.152552  0.062428  0.791640   \n",
            "danceability       -0.176321  0.152552      1.000000  0.285036  0.167147   \n",
            "key                -0.052844  0.062428      0.285036  1.000000 -0.009178   \n",
            "loudness            0.034935  0.791640      0.167147 -0.009178  1.000000   \n",
            "acousticness       -0.036557 -0.682479     -0.359135 -0.113394 -0.498695   \n",
            "speechiness         0.095790  0.074267      0.226148 -0.094965 -0.021693   \n",
            "instrumentalness   -0.003126 -0.385515     -0.017706  0.020802 -0.553735   \n",
            "liveness           -0.063216  0.069487     -0.006648  0.278672 -0.069939   \n",
            "valence            -0.034159  0.393453      0.479953  0.120007  0.406772   \n",
            "tempo               0.081289  0.075191      0.168956  0.080475  0.102097   \n",
            "duration_ms         0.309563  0.081971     -0.033763 -0.003345  0.064130   \n",
            "\n",
            "                  acousticness  speechiness  instrumentalness  liveness  \\\n",
            "Unnamed: 0           -0.036557     0.095790         -0.003126 -0.063216   \n",
            "energy               -0.682479     0.074267         -0.385515  0.069487   \n",
            "danceability         -0.359135     0.226148         -0.017706 -0.006648   \n",
            "key                  -0.113394    -0.094965          0.020802  0.278672   \n",
            "loudness             -0.498695    -0.021693         -0.553735 -0.069939   \n",
            "acousticness          1.000000    -0.135392          0.352184 -0.128384   \n",
            "speechiness          -0.135392     1.000000          0.028948 -0.142957   \n",
            "instrumentalness      0.352184     0.028948          1.000000 -0.087034   \n",
            "liveness             -0.128384    -0.142957         -0.087034  1.000000   \n",
            "valence              -0.243192     0.053867         -0.203283 -0.033366   \n",
            "tempo                -0.241119     0.215504          0.018853  0.025457   \n",
            "duration_ms          -0.010988     0.366976          0.184709 -0.090188   \n",
            "\n",
            "                   valence     tempo  duration_ms  \n",
            "Unnamed: 0       -0.034159  0.081289     0.309563  \n",
            "energy            0.393453  0.075191     0.081971  \n",
            "danceability      0.479953  0.168956    -0.033763  \n",
            "key               0.120007  0.080475    -0.003345  \n",
            "loudness          0.406772  0.102097     0.064130  \n",
            "acousticness     -0.243192 -0.241119    -0.010988  \n",
            "speechiness       0.053867  0.215504     0.366976  \n",
            "instrumentalness -0.203283  0.018853     0.184709  \n",
            "liveness         -0.033366  0.025457    -0.090188  \n",
            "valence           1.000000  0.045089    -0.039794  \n",
            "tempo             0.045089  1.000000     0.130328  \n",
            "duration_ms      -0.039794  0.130328     1.000000  \n"
          ]
        }
      ]
    },
    {
      "cell_type": "code",
      "source": [
        "threshold_positive = 0.7\n",
        "\n",
        "positive_corr = correlation[correlation > threshold_positive]\n",
        "masked_positive_corr = positive_corr.mask(positive_corr == 1)\n",
        "print(masked_positive_corr)"
      ],
      "metadata": {
        "colab": {
          "base_uri": "https://localhost:8080/"
        },
        "id": "i6TsdplJoU2A",
        "outputId": "0e688b8c-0ed6-48ff-9a32-382853ff2137"
      },
      "id": "i6TsdplJoU2A",
      "execution_count": 55,
      "outputs": [
        {
          "output_type": "stream",
          "name": "stdout",
          "text": [
            "                  Unnamed: 0   energy  danceability  key  loudness  \\\n",
            "Unnamed: 0               NaN      NaN           NaN  NaN       NaN   \n",
            "energy                   NaN      NaN           NaN  NaN   0.79164   \n",
            "danceability             NaN      NaN           NaN  NaN       NaN   \n",
            "key                      NaN      NaN           NaN  NaN       NaN   \n",
            "loudness                 NaN  0.79164           NaN  NaN       NaN   \n",
            "acousticness             NaN      NaN           NaN  NaN       NaN   \n",
            "speechiness              NaN      NaN           NaN  NaN       NaN   \n",
            "instrumentalness         NaN      NaN           NaN  NaN       NaN   \n",
            "liveness                 NaN      NaN           NaN  NaN       NaN   \n",
            "valence                  NaN      NaN           NaN  NaN       NaN   \n",
            "tempo                    NaN      NaN           NaN  NaN       NaN   \n",
            "duration_ms              NaN      NaN           NaN  NaN       NaN   \n",
            "\n",
            "                  acousticness  speechiness  instrumentalness  liveness  \\\n",
            "Unnamed: 0                 NaN          NaN               NaN       NaN   \n",
            "energy                     NaN          NaN               NaN       NaN   \n",
            "danceability               NaN          NaN               NaN       NaN   \n",
            "key                        NaN          NaN               NaN       NaN   \n",
            "loudness                   NaN          NaN               NaN       NaN   \n",
            "acousticness               NaN          NaN               NaN       NaN   \n",
            "speechiness                NaN          NaN               NaN       NaN   \n",
            "instrumentalness           NaN          NaN               NaN       NaN   \n",
            "liveness                   NaN          NaN               NaN       NaN   \n",
            "valence                    NaN          NaN               NaN       NaN   \n",
            "tempo                      NaN          NaN               NaN       NaN   \n",
            "duration_ms                NaN          NaN               NaN       NaN   \n",
            "\n",
            "                  valence  tempo  duration_ms  \n",
            "Unnamed: 0            NaN    NaN          NaN  \n",
            "energy                NaN    NaN          NaN  \n",
            "danceability          NaN    NaN          NaN  \n",
            "key                   NaN    NaN          NaN  \n",
            "loudness              NaN    NaN          NaN  \n",
            "acousticness          NaN    NaN          NaN  \n",
            "speechiness           NaN    NaN          NaN  \n",
            "instrumentalness      NaN    NaN          NaN  \n",
            "liveness              NaN    NaN          NaN  \n",
            "valence               NaN    NaN          NaN  \n",
            "tempo                 NaN    NaN          NaN  \n",
            "duration_ms           NaN    NaN          NaN  \n"
          ]
        }
      ]
    },
    {
      "cell_type": "markdown",
      "source": [
        "# Which features are strongly negatively correlated?\n"
      ],
      "metadata": {
        "id": "fSY0jL2robuC"
      },
      "id": "fSY0jL2robuC"
    },
    {
      "cell_type": "code",
      "source": [
        "threshold_negative = -0.7\n",
        "\n",
        "negative_corr = correlation[correlation < threshold_negative]\n",
        "print(negative_corr)"
      ],
      "metadata": {
        "colab": {
          "base_uri": "https://localhost:8080/"
        },
        "id": "VPTYlUOYocK8",
        "outputId": "d1afb90d-314e-4f4c-c150-436147fc2d69"
      },
      "id": "VPTYlUOYocK8",
      "execution_count": 58,
      "outputs": [
        {
          "output_type": "stream",
          "name": "stdout",
          "text": [
            "                  Unnamed: 0  energy  danceability  key  loudness  \\\n",
            "Unnamed: 0               NaN     NaN           NaN  NaN       NaN   \n",
            "energy                   NaN     NaN           NaN  NaN       NaN   \n",
            "danceability             NaN     NaN           NaN  NaN       NaN   \n",
            "key                      NaN     NaN           NaN  NaN       NaN   \n",
            "loudness                 NaN     NaN           NaN  NaN       NaN   \n",
            "acousticness             NaN     NaN           NaN  NaN       NaN   \n",
            "speechiness              NaN     NaN           NaN  NaN       NaN   \n",
            "instrumentalness         NaN     NaN           NaN  NaN       NaN   \n",
            "liveness                 NaN     NaN           NaN  NaN       NaN   \n",
            "valence                  NaN     NaN           NaN  NaN       NaN   \n",
            "tempo                    NaN     NaN           NaN  NaN       NaN   \n",
            "duration_ms              NaN     NaN           NaN  NaN       NaN   \n",
            "\n",
            "                  acousticness  speechiness  instrumentalness  liveness  \\\n",
            "Unnamed: 0                 NaN          NaN               NaN       NaN   \n",
            "energy                     NaN          NaN               NaN       NaN   \n",
            "danceability               NaN          NaN               NaN       NaN   \n",
            "key                        NaN          NaN               NaN       NaN   \n",
            "loudness                   NaN          NaN               NaN       NaN   \n",
            "acousticness               NaN          NaN               NaN       NaN   \n",
            "speechiness                NaN          NaN               NaN       NaN   \n",
            "instrumentalness           NaN          NaN               NaN       NaN   \n",
            "liveness                   NaN          NaN               NaN       NaN   \n",
            "valence                    NaN          NaN               NaN       NaN   \n",
            "tempo                      NaN          NaN               NaN       NaN   \n",
            "duration_ms                NaN          NaN               NaN       NaN   \n",
            "\n",
            "                  valence  tempo  duration_ms  \n",
            "Unnamed: 0            NaN    NaN          NaN  \n",
            "energy                NaN    NaN          NaN  \n",
            "danceability          NaN    NaN          NaN  \n",
            "key                   NaN    NaN          NaN  \n",
            "loudness              NaN    NaN          NaN  \n",
            "acousticness          NaN    NaN          NaN  \n",
            "speechiness           NaN    NaN          NaN  \n",
            "instrumentalness      NaN    NaN          NaN  \n",
            "liveness              NaN    NaN          NaN  \n",
            "valence               NaN    NaN          NaN  \n",
            "tempo                 NaN    NaN          NaN  \n",
            "duration_ms           NaN    NaN          NaN  \n"
          ]
        }
      ]
    },
    {
      "cell_type": "markdown",
      "source": [
        "# Which features are not correlated?"
      ],
      "metadata": {
        "id": "lZq9UtFUofnC"
      },
      "id": "lZq9UtFUofnC"
    },
    {
      "cell_type": "code",
      "source": [
        "threshold_no_correlation = 0.3\n",
        "\n",
        "no_correlation = correlation[(correlation > -threshold_no_correlation) & (correlation < threshold_no_correlation)]\n",
        "print(no_correlation)"
      ],
      "metadata": {
        "colab": {
          "base_uri": "https://localhost:8080/"
        },
        "id": "2d5B_AoZogh0",
        "outputId": "8b988c4e-a35e-46a6-c729-15db10b2c6ca"
      },
      "id": "2d5B_AoZogh0",
      "execution_count": 59,
      "outputs": [
        {
          "output_type": "stream",
          "name": "stdout",
          "text": [
            "                  Unnamed: 0    energy  danceability       key  loudness  \\\n",
            "Unnamed: 0               NaN  0.030381     -0.176321 -0.052844  0.034935   \n",
            "energy              0.030381       NaN      0.152552  0.062428       NaN   \n",
            "danceability       -0.176321  0.152552           NaN  0.285036  0.167147   \n",
            "key                -0.052844  0.062428      0.285036       NaN -0.009178   \n",
            "loudness            0.034935       NaN      0.167147 -0.009178       NaN   \n",
            "acousticness       -0.036557       NaN           NaN -0.113394       NaN   \n",
            "speechiness         0.095790  0.074267      0.226148 -0.094965 -0.021693   \n",
            "instrumentalness   -0.003126       NaN     -0.017706  0.020802       NaN   \n",
            "liveness           -0.063216  0.069487     -0.006648  0.278672 -0.069939   \n",
            "valence            -0.034159       NaN           NaN  0.120007       NaN   \n",
            "tempo               0.081289  0.075191      0.168956  0.080475  0.102097   \n",
            "duration_ms              NaN  0.081971     -0.033763 -0.003345  0.064130   \n",
            "\n",
            "                  acousticness  speechiness  instrumentalness  liveness  \\\n",
            "Unnamed: 0           -0.036557     0.095790         -0.003126 -0.063216   \n",
            "energy                     NaN     0.074267               NaN  0.069487   \n",
            "danceability               NaN     0.226148         -0.017706 -0.006648   \n",
            "key                  -0.113394    -0.094965          0.020802  0.278672   \n",
            "loudness                   NaN    -0.021693               NaN -0.069939   \n",
            "acousticness               NaN    -0.135392               NaN -0.128384   \n",
            "speechiness          -0.135392          NaN          0.028948 -0.142957   \n",
            "instrumentalness           NaN     0.028948               NaN -0.087034   \n",
            "liveness             -0.128384    -0.142957         -0.087034       NaN   \n",
            "valence              -0.243192     0.053867         -0.203283 -0.033366   \n",
            "tempo                -0.241119     0.215504          0.018853  0.025457   \n",
            "duration_ms          -0.010988          NaN          0.184709 -0.090188   \n",
            "\n",
            "                   valence     tempo  duration_ms  \n",
            "Unnamed: 0       -0.034159  0.081289          NaN  \n",
            "energy                 NaN  0.075191     0.081971  \n",
            "danceability           NaN  0.168956    -0.033763  \n",
            "key               0.120007  0.080475    -0.003345  \n",
            "loudness               NaN  0.102097     0.064130  \n",
            "acousticness     -0.243192 -0.241119    -0.010988  \n",
            "speechiness       0.053867  0.215504          NaN  \n",
            "instrumentalness -0.203283  0.018853     0.184709  \n",
            "liveness         -0.033366  0.025457    -0.090188  \n",
            "valence                NaN  0.045089    -0.039794  \n",
            "tempo             0.045089       NaN     0.130328  \n",
            "duration_ms      -0.039794  0.130328          NaN  \n"
          ]
        }
      ]
    },
    {
      "cell_type": "markdown",
      "source": [
        "# How does the danceability score compare between Pop, Hip-Hop/Rap, Dance/Electronic, and Alternative/Indie genres?"
      ],
      "metadata": {
        "id": "JbCUlPs3oiHq"
      },
      "id": "JbCUlPs3oiHq"
    },
    {
      "cell_type": "code",
      "source": [
        "genres_in_scope = ['Pop', 'Hip-Hop/Rap', 'Dance/Electronic', 'Alternative/Indie']\n",
        "filtered_data_source = data_source[data_source['genre'].isin(genres_in_scope)]"
      ],
      "metadata": {
        "id": "hykznx1iol7z"
      },
      "id": "hykznx1iol7z",
      "execution_count": 60,
      "outputs": []
    },
    {
      "cell_type": "code",
      "source": [
        "grouped = filtered_data_source.groupby('genre')\n",
        "grouped_danceability_mean = grouped['danceability'].mean().sort_values(ascending=False)\n",
        "print(grouped_danceability_mean)"
      ],
      "metadata": {
        "colab": {
          "base_uri": "https://localhost:8080/"
        },
        "id": "nHdcLqgYop9a",
        "outputId": "ca7fc065-06c8-4a80-885b-4ac3192c6e3b"
      },
      "id": "nHdcLqgYop9a",
      "execution_count": 61,
      "outputs": [
        {
          "output_type": "stream",
          "name": "stdout",
          "text": [
            "genre\n",
            "Hip-Hop/Rap          0.765538\n",
            "Dance/Electronic     0.755000\n",
            "Pop                  0.677571\n",
            "Alternative/Indie    0.661750\n",
            "Name: danceability, dtype: float64\n"
          ]
        }
      ]
    },
    {
      "cell_type": "code",
      "source": [
        "plt.plot(grouped_danceability_mean)\n",
        "plt.xlabel('Genres')\n",
        "plt.ylabel('Danceability')\n",
        "plt.title('Danceability by genres')\n",
        "plt.show()"
      ],
      "metadata": {
        "colab": {
          "base_uri": "https://localhost:8080/",
          "height": 472
        },
        "id": "t4MPhEaUouE6",
        "outputId": "090d37ff-f724-433a-aa7d-7fbb048f937e"
      },
      "id": "t4MPhEaUouE6",
      "execution_count": 64,
      "outputs": [
        {
          "output_type": "display_data",
          "data": {
            "text/plain": [
              "<Figure size 640x480 with 1 Axes>"
            ],
            "image/png": "[encoded data removed]"
          },
          "metadata": {}
        }
      ]
    },
    {
      "cell_type": "markdown",
      "source": [
        "# How does the loudness score compare between Pop, Hip-Hop/Rap, Dance/Electronic, and Alternative/Indie genres?"
      ],
      "metadata": {
        "id": "2bDOGCojo0bq"
      },
      "id": "2bDOGCojo0bq"
    },
    {
      "cell_type": "code",
      "source": [
        "grouped_loudness_mean = grouped['loudness'].mean().sort_values(ascending=True)\n",
        "print(grouped_loudness_mean)"
      ],
      "metadata": {
        "colab": {
          "base_uri": "https://localhost:8080/"
        },
        "id": "OjJqk59Ho1Ft",
        "outputId": "e3d17eed-23c0-4956-dd7a-52d22dd16af6"
      },
      "id": "OjJqk59Ho1Ft",
      "execution_count": 65,
      "outputs": [
        {
          "output_type": "stream",
          "name": "stdout",
          "text": [
            "genre\n",
            "Hip-Hop/Rap         -6.917846\n",
            "Pop                 -6.460357\n",
            "Alternative/Indie   -5.421000\n",
            "Dance/Electronic    -5.338000\n",
            "Name: loudness, dtype: float64\n"
          ]
        }
      ]
    },
    {
      "cell_type": "code",
      "source": [
        "plt.plot(grouped_loudness_mean)\n",
        "plt.xlabel('Genres')\n",
        "plt.ylabel('Loudness')\n",
        "plt.title('Loudness by genres')\n",
        "plt.show()"
      ],
      "metadata": {
        "colab": {
          "base_uri": "https://localhost:8080/",
          "height": 472
        },
        "id": "1xTXoCcuo4dq",
        "outputId": "035c1371-e5eb-4820-d189-a718b95dacc3"
      },
      "id": "1xTXoCcuo4dq",
      "execution_count": 66,
      "outputs": [
        {
          "output_type": "display_data",
          "data": {
            "text/plain": [
              "<Figure size 640x480 with 1 Axes>"
            ],
            "image/png": "[encoded data removed]"
          },
          "metadata": {}
        }
      ]
    },
    {
      "cell_type": "markdown",
      "source": [
        "# How does the acousticness score compare between Pop, Hip-Hop/Rap, Dance/Electronic, and Alternative/Indie genres?"
      ],
      "metadata": {
        "id": "9hof46tYo6DK"
      },
      "id": "9hof46tYo6DK"
    },
    {
      "cell_type": "code",
      "source": [
        "grouped_acousticness_mean = grouped['acousticness'].mean().sort_values(ascending=False)\n",
        "print(grouped_acousticness_mean)"
      ],
      "metadata": {
        "colab": {
          "base_uri": "https://localhost:8080/"
        },
        "id": "Pcbu4dfko9Zb",
        "outputId": "a4d69c52-a6d4-4804-9c54-935e2c4a70d6"
      },
      "id": "Pcbu4dfko9Zb",
      "execution_count": 67,
      "outputs": [
        {
          "output_type": "stream",
          "name": "stdout",
          "text": [
            "genre\n",
            "Alternative/Indie    0.583500\n",
            "Pop                  0.323843\n",
            "Hip-Hop/Rap          0.188741\n",
            "Dance/Electronic     0.099440\n",
            "Name: acousticness, dtype: float64\n"
          ]
        }
      ]
    },
    {
      "cell_type": "code",
      "source": [
        "plt.plot(grouped_acousticness_mean)\n",
        "plt.xlabel('Genres')\n",
        "plt.ylabel('Accousticness')\n",
        "plt.title('Accousticness by genres')\n",
        "plt.show()"
      ],
      "metadata": {
        "colab": {
          "base_uri": "https://localhost:8080/",
          "height": 576
        },
        "id": "yvJGYawto_vM",
        "outputId": "cdfeafe0-8de1-41cd-97ac-20c7b77d4963"
      },
      "id": "yvJGYawto_vM",
      "execution_count": 68,
      "outputs": [
        {
          "output_type": "display_data",
          "data": {
            "text/plain": [
              "<Figure size 640x480 with 1 Axes>"
            ],
            "image/png": "[encoded data removed]"
          },
          "metadata": {}
        }
      ]
    },
    {
      "cell_type": "markdown",
      "source": [
        "# Suggestions about how your analysis can be improved"
      ],
      "metadata": {
        "id": "Txke46tkrvLX"
      },
      "id": "Txke46tkrvLX"
    },
    {
      "cell_type": "markdown",
      "source": [
        "1. To take into consideration artists which are featuring a song but are not included into artists"
      ],
      "metadata": {
        "id": "NRZz4WWCrxRt"
      },
      "id": "NRZz4WWCrxRt"
    }
  ],
  "metadata": {
    "kernelspec": {
      "display_name": "Python 3",
      "language": "python",
      "name": "python3"
    },
    "language_info": {
      "codemirror_mode": {
        "name": "ipython",
        "version": 3
      },
      "file_extension": ".py",
      "mimetype": "text/x-python",
      "name": "python",
      "nbconvert_exporter": "python",
      "pygments_lexer": "ipython3",
      "version": "3.9.5"
    },
    "colab": {
      "provenance": []
    }
  },
  "nbformat": 4,
  "nbformat_minor": 5
}